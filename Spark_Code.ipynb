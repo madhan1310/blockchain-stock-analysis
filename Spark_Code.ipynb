{
 "cells": [
  {
   "cell_type": "markdown",
   "metadata": {},
   "source": [
    "# Group14_Project3"
   ]
  },
  {
   "cell_type": "code",
   "execution_count": 3,
   "metadata": {},
   "outputs": [],
   "source": [
    "# Sai Madhan Muthyam \n",
    "# Karan Raturi\n",
    "# Lakshmi Vinanya Yenumula \n",
    "# Venkata Rama Anirudh Vikram Kesapragada\n",
    "# Neelima Nandigam\n",
    "# Amol Bhadane"
   ]
  },
  {
   "cell_type": "code",
   "execution_count": 1,
   "metadata": {
    "scrolled": true
   },
   "outputs": [
    {
     "data": {
      "text/plain": [
       "<pyspark.context.SparkContext at 0x7fa60011a790>"
      ]
     },
     "execution_count": 1,
     "metadata": {},
     "output_type": "execute_result"
    }
   ],
   "source": [
    "sc"
   ]
  },
  {
   "cell_type": "markdown",
   "metadata": {},
   "source": [
    "# Step 2: Data Analysis Using Spark Core"
   ]
  },
  {
   "cell_type": "markdown",
   "metadata": {},
   "source": [
    "## A. Blockchain Data Analysis – Part 1"
   ]
  },
  {
   "cell_type": "code",
   "execution_count": 2,
   "metadata": {
    "scrolled": true
   },
   "outputs": [],
   "source": [
    "import json\n",
    "\n",
    "file_path = \"hdfs://localhost/loudacre/blockchain_data.txt\"\n",
    "json_string = sc.textFile(file_path).reduce(lambda x, y: x + y)\n",
    "data_blocks = json.loads(json_string)"
   ]
  },
  {
   "cell_type": "raw",
   "metadata": {},
   "source": [
    "1) How many total blocks are there in your dataset?"
   ]
  },
  {
   "cell_type": "code",
   "execution_count": 3,
   "metadata": {
    "scrolled": true
   },
   "outputs": [
    {
     "name": "stdout",
     "output_type": "stream",
     "text": [
      "('Total number of blocks:', 1026)\n"
     ]
    }
   ],
   "source": [
    "total_blocks = len(data_blocks)\n",
    "print(\"Total number of blocks:\", total_blocks)"
   ]
  },
  {
   "cell_type": "raw",
   "metadata": {},
   "source": [
    "2) What is the largest block height among the blocks in your dataset?"
   ]
  },
  {
   "cell_type": "code",
   "execution_count": 4,
   "metadata": {},
   "outputs": [
    {
     "name": "stdout",
     "output_type": "stream",
     "text": [
      "('Largest block height:', 835509)\n"
     ]
    }
   ],
   "source": [
    "largest_block_height = max(block['height'] for block in data_blocks)\n",
    "print(\"Largest block height:\", largest_block_height)"
   ]
  },
  {
   "cell_type": "raw",
   "metadata": {},
   "source": [
    "3) What is the date and time for that block?"
   ]
  },
  {
   "cell_type": "code",
   "execution_count": 5,
   "metadata": {
    "scrolled": true
   },
   "outputs": [
    {
     "name": "stdout",
     "output_type": "stream",
     "text": [
      "('Time for the largest block:', 1710924274)\n"
     ]
    }
   ],
   "source": [
    "block_with_largest_height = next((block for block in data_blocks if block.get('height') == largest_block_height), None)\n",
    "\n",
    "if block_with_largest_height:\n",
    "    time_largest_block = block_with_largest_height.get('time')\n",
    "    print(\"Time for the largest block:\", time_largest_block)"
   ]
  },
  {
   "cell_type": "raw",
   "metadata": {},
   "source": [
    "4. What is the highest number of transactions in your blocks? "
   ]
  },
  {
   "cell_type": "code",
   "execution_count": 7,
   "metadata": {
    "scrolled": true
   },
   "outputs": [
    {
     "name": "stdout",
     "output_type": "stream",
     "text": [
      "('Block with the highest number of transactions:', 834900)\n",
      "('Highest number of transactions in the blocks:', 5058)\n"
     ]
    }
   ],
   "source": [
    "# Initialize variables to store the highest number of transactions and corresponding block height\n",
    "max_transactions = 0\n",
    "highest_transactions_block_height = None\n",
    "\n",
    "# Iterate over the data to find the block with the highest number of transactions\n",
    "for block in data_blocks:\n",
    "    num_transactions = block['n_tx']\n",
    "    if num_transactions > max_transactions:\n",
    "        max_transactions = num_transactions\n",
    "        highest_transactions_block_height = block['height']\n",
    "\n",
    "print(\"Block with the highest number of transactions:\", highest_transactions_block_height)\n",
    "print(\"Highest number of transactions in the blocks:\", max_transactions)\n"
   ]
  },
  {
   "cell_type": "markdown",
   "metadata": {},
   "source": [
    "## B. Stock Market Data Analysis"
   ]
  },
  {
   "cell_type": "code",
   "execution_count": 8,
   "metadata": {
    "scrolled": true
   },
   "outputs": [],
   "source": [
    "hdfs_folder_path = \"hdfs://localhost:/flume/data/\"\n",
    "data_stocks = sc.wholeTextFiles(hdfs_folder_path)\n",
    "split = data_stocks.flatMap(lambda x: __import__('re').split(r'\\r\\n|\\n', x[1]))\n",
    "header = split.first()\n",
    "RDD = split.filter(lambda line: line != header and line != \"\")"
   ]
  },
  {
   "cell_type": "raw",
   "metadata": {},
   "source": [
    "1) How many records are there in the table?"
   ]
  },
  {
   "cell_type": "code",
   "execution_count": 9,
   "metadata": {
    "scrolled": true
   },
   "outputs": [
    {
     "name": "stdout",
     "output_type": "stream",
     "text": [
      "('Total number of records:', 9775)\n"
     ]
    }
   ],
   "source": [
    "# Count the number of records\n",
    "total_records = RDD.count()\n",
    "print(\"Total number of records:\", total_records)"
   ]
  },
  {
   "cell_type": "raw",
   "metadata": {},
   "source": [
    "2) How many different days are there in the table?"
   ]
  },
  {
   "cell_type": "code",
   "execution_count": 10,
   "metadata": {
    "scrolled": true
   },
   "outputs": [
    {
     "name": "stdout",
     "output_type": "stream",
     "text": [
      "('Number of different days in the table:', 5)\n"
     ]
    }
   ],
   "source": [
    "unique_days = RDD.map(lambda x: x.split(',')[0]).distinct().count()\n",
    "print(\"Number of different days in the table:\",unique_days)"
   ]
  },
  {
   "cell_type": "raw",
   "metadata": {},
   "source": [
    "3. How many records per each day are there in the table? "
   ]
  },
  {
   "cell_type": "code",
   "execution_count": 11,
   "metadata": {
    "scrolled": true
   },
   "outputs": [
    {
     "data": {
      "text/plain": [
       "[(u'GOOG', 1955),\n",
       " (u'AAPL', 1955),\n",
       " (u'AMZN', 1955),\n",
       " (u'MSFT', 1955),\n",
       " (u'IBM', 1955)]"
      ]
     },
     "execution_count": 11,
     "metadata": {},
     "output_type": "execute_result"
    }
   ],
   "source": [
    "records_per_day = RDD.map(lambda x: (x.split(',')[0], 1)).reduceByKey(lambda x, y: x + y).collect()\n",
    "records_per_day"
   ]
  },
  {
   "cell_type": "raw",
   "metadata": {},
   "source": [
    "4. What are the symbols in the table? "
   ]
  },
  {
   "cell_type": "code",
   "execution_count": 12,
   "metadata": {
    "scrolled": true
   },
   "outputs": [
    {
     "name": "stdout",
     "output_type": "stream",
     "text": [
      "('Symbols in the table:', [u'GOOG', u'AAPL', u'AMZN', u'MSFT', u'IBM'])\n"
     ]
    }
   ],
   "source": [
    "# Collect distinct symbols\n",
    "symbols = RDD.map(lambda x: x.split(',')[0]).distinct().collect()\n",
    "print(\"Symbols in the table:\", symbols)"
   ]
  },
  {
   "cell_type": "raw",
   "metadata": {},
   "source": [
    "5. What is the highest price for each symbol? "
   ]
  },
  {
   "cell_type": "code",
   "execution_count": 13,
   "metadata": {
    "scrolled": true
   },
   "outputs": [
    {
     "name": "stdout",
     "output_type": "stream",
     "text": [
      "Highest Price per Symbol:\n",
      "(u'GOOG', 152.63)\n",
      "(u'AAPL', 178.66)\n",
      "(u'AMZN', 181.005)\n",
      "(u'MSFT', 430.75)\n",
      "(u'IBM', 193.95)\n"
     ]
    }
   ],
   "source": [
    "# Group data by symbol and find the highest price within each group\n",
    "highest_price_per_symbol = RDD.map(lambda x: (x.split(',')[0], float(x.split(',')[2]))).\\\n",
    "    groupByKey().\\\n",
    "    mapValues(max).\\\n",
    "    collect()\n",
    "\n",
    "# Print the result\n",
    "print(\"Highest Price per Symbol:\")\n",
    "for symbol, highest_price in highest_price_per_symbol:\n",
    "    print(symbol, highest_price)"
   ]
  },
  {
   "cell_type": "raw",
   "metadata": {},
   "source": [
    "6. What is the lowest price for each symbol? "
   ]
  },
  {
   "cell_type": "code",
   "execution_count": 14,
   "metadata": {
    "scrolled": true
   },
   "outputs": [
    {
     "name": "stdout",
     "output_type": "stream",
     "text": [
      "Lowest price for each symbol:\n",
      "(u'GOOG', 147.045)\n",
      "(u'AAPL', 170.075)\n",
      "(u'AMZN', 173.915)\n",
      "(u'MSFT', 415.03)\n",
      "(u'IBM', 190.07)\n"
     ]
    }
   ],
   "source": [
    "lowest_price_per_symbol = RDD.map(lambda x: (x.split(',')[0], float(x.split(',')[5]))).reduceByKey(min)\n",
    "print(\"Lowest price for each symbol:\")\n",
    "for record in lowest_price_per_symbol.collect():\n",
    "    print(record)"
   ]
  },
  {
   "cell_type": "raw",
   "metadata": {},
   "source": [
    "7. What is the average price for each symbol? "
   ]
  },
  {
   "cell_type": "code",
   "execution_count": 15,
   "metadata": {
    "scrolled": true
   },
   "outputs": [
    {
     "data": {
      "text/plain": [
       "[(u'GOOG', 149.36608951406657),\n",
       " (u'AAPL', 174.54984040920726),\n",
       " (u'AMZN', 176.86760358056276),\n",
       " (u'MSFT', 423.7469294117647),\n",
       " (u'IBM', 192.19820306905365)]"
      ]
     },
     "execution_count": 15,
     "metadata": {},
     "output_type": "execute_result"
    }
   ],
   "source": [
    "average_price_per_symbol = RDD.map(lambda x: (x.split(',')[0], (float(x.split(',')[2]), 1))).\\\n",
    "    reduceByKey(lambda x, y: (x[0] + y[0], x[1] + y[1])).\\\n",
    "    map(lambda x: (x[0], x[1][0] / x[1][1])).collect()\n",
    "average_price_per_symbol"
   ]
  },
  {
   "cell_type": "raw",
   "metadata": {},
   "source": [
    "8. What is the range of price for each symbol? "
   ]
  },
  {
   "cell_type": "code",
   "execution_count": 16,
   "metadata": {
    "scrolled": true
   },
   "outputs": [
    {
     "data": {
      "text/plain": [
       "[(u'GOOG', (147.05, 152.93)),\n",
       " (u'AAPL', (170.075, 178.68)),\n",
       " (u'AMZN', (173.87, 181.415)),\n",
       " (u'MSFT', (414.25, 430.82)),\n",
       " (u'IBM', (190.24, 194.0))]"
      ]
     },
     "execution_count": 16,
     "metadata": {},
     "output_type": "execute_result"
    }
   ],
   "source": [
    "price_range_per_symbol = RDD.map(lambda x: (x.split(',')[0], (float(x.split(',')[2]), float(x.split(',')[3])))).\\\n",
    "    reduceByKey(lambda x, y: (min(x[0], y[0]), max(x[1], y[1]))).collect()\n",
    "price_range_per_symbol"
   ]
  },
  {
   "cell_type": "raw",
   "metadata": {},
   "source": [
    "9. What is the date on which each symbol experienced the highest price? "
   ]
  },
  {
   "cell_type": "code",
   "execution_count": 17,
   "metadata": {
    "scrolled": true
   },
   "outputs": [
    {
     "data": {
      "text/plain": [
       "[(u'GOOG', (152.63, u'2024-03-18 09:46:00')),\n",
       " (u'AAPL', (178.66, u'2024-03-20 16:00:00')),\n",
       " (u'AMZN', (181.005, u'2024-03-21 09:33:00')),\n",
       " (u'MSFT', (430.75, u'2024-03-21 09:35:00')),\n",
       " (u'IBM', (193.95, u'2024-03-20 16:00:00'))]"
      ]
     },
     "execution_count": 17,
     "metadata": {},
     "output_type": "execute_result"
    }
   ],
   "source": [
    "date_highest_price_per_symbol = RDD.map(lambda x: (x.split(',')[0], (float(x.split(',')[2]), x.split(',')[1]))).\\\n",
    "    reduceByKey(lambda x, y: x if x[0] > y[0] else y).collect()\n",
    "date_highest_price_per_symbol"
   ]
  },
  {
   "cell_type": "markdown",
   "metadata": {},
   "source": [
    "## C. Blockchain Data Analysis – Part 2"
   ]
  },
  {
   "cell_type": "code",
   "execution_count": 18,
   "metadata": {
    "collapsed": true,
    "scrolled": true
   },
   "outputs": [],
   "source": [
    "hdfs_path = \"/user/hive/warehouse/project1.db\"\n",
    "\n",
    "blocks_rdd = sc.textFile(hdfs_path + \"/blocks_2023_sep_10_to_15\")\n",
    "blocks_info_rdd = sc.textFile(hdfs_path + \"/blocks_info_2023_sep_10_to_15\")\n",
    "tx_info_rdd = sc.textFile(hdfs_path + \"/tx_info_2023_sep_10_to_15\")"
   ]
  },
  {
   "cell_type": "raw",
   "metadata": {},
   "source": [
    "1. How many total blocks are there in your blocks table? "
   ]
  },
  {
   "cell_type": "code",
   "execution_count": 19,
   "metadata": {
    "scrolled": true
   },
   "outputs": [
    {
     "name": "stdout",
     "output_type": "stream",
     "text": [
      "('Total number of blocks:', 920)\n"
     ]
    }
   ],
   "source": [
    "total_blocks = blocks_rdd.count()\n",
    "print(\"Total number of blocks:\", total_blocks)"
   ]
  },
  {
   "cell_type": "raw",
   "metadata": {},
   "source": [
    "2. What is the largest block height among the blocks in your blocks table? "
   ]
  },
  {
   "cell_type": "code",
   "execution_count": 20,
   "metadata": {
    "scrolled": true
   },
   "outputs": [
    {
     "name": "stdout",
     "output_type": "stream",
     "text": [
      "('Largest block height:', 807751)\n"
     ]
    }
   ],
   "source": [
    "largest_block_height = blocks_rdd.map(lambda x: int(x.split('\\x01')[3])).max()\n",
    "\n",
    "print(\"Largest block height:\", largest_block_height)"
   ]
  },
  {
   "cell_type": "raw",
   "metadata": {},
   "source": [
    "3. What is the date and time for that block? "
   ]
  },
  {
   "cell_type": "code",
   "execution_count": null,
   "metadata": {
    "scrolled": true
   },
   "outputs": [],
   "source": [
    "largest_block_row = blocks_info_rdd.filter(lambda x: int(x.split('\\x01')[9]) == largest_block_height).first()\n",
    "largest_height_hash = largest_block_row.split('\\x01')[1]\n",
    "print(\"largest_height_hash:\", largest_height_hash)\n",
    "\n",
    "matching_row = blocks_rdd.filter(lambda x: x.split('\\x01')[1] == largest_height_hash).first()\n",
    "timestamp = matching_row.split('\\x01')[2]\n",
    "\n",
    "print(\"Timestamp for the block with the largest height:\", timestamp)"
   ]
  },
  {
   "cell_type": "raw",
   "metadata": {},
   "source": [
    "4. What is the largest number of transactions in your blocks? "
   ]
  },
  {
   "cell_type": "code",
   "execution_count": 22,
   "metadata": {
    "scrolled": true
   },
   "outputs": [
    {
     "name": "stdout",
     "output_type": "stream",
     "text": [
      "Block with the largest number of transactions:\n",
      "('Block Hash:', u'00000000000000000002dbf9d0bc1c743ac17bdb60d5c6abc8cd94f2d253621d')\n",
      "('Number of Transactions:', 7252)\n"
     ]
    }
   ],
   "source": [
    "block_hashes = tx_info_rdd.map(lambda row: (row.split('\\x01')[2], 1))\n",
    "\n",
    "block_transaction_counts = block_hashes.groupByKey().mapValues(len)\n",
    "\n",
    "largest_block = block_transaction_counts.top(1, key=lambda x: x[1])\n",
    "\n",
    "print(\"Block with the largest number of transactions:\")\n",
    "print(\"Block Hash:\", largest_block[0][0])\n",
    "print(\"Number of Transactions:\", largest_block[0][1])"
   ]
  },
  {
   "cell_type": "markdown",
   "metadata": {},
   "source": [
    "# Step 3: Data Analysis Using Spark SQL"
   ]
  },
  {
   "cell_type": "markdown",
   "metadata": {},
   "source": [
    "## A. Blockchain Data Analysis – Part 1"
   ]
  },
  {
   "cell_type": "raw",
   "metadata": {},
   "source": [
    "1. How many total blocks are there in your dataset? "
   ]
  },
  {
   "cell_type": "code",
   "execution_count": 23,
   "metadata": {
    "scrolled": true
   },
   "outputs": [
    {
     "name": "stdout",
     "output_type": "stream",
     "text": [
      "Total Blocks: 1026\n"
     ]
    },
    {
     "name": "stderr",
     "output_type": "stream",
     "text": [
      "/usr/lib/spark/python/pyspark/sql/context.py:156: UserWarning: Using RDD of dict to inferSchema is deprecated,please use pyspark.sql.Row instead\n",
      "  warnings.warn(\"Using RDD of dict to inferSchema is deprecated,\"\n"
     ]
    }
   ],
   "source": [
    "from pyspark.sql import SQLContext\n",
    "\n",
    "sqlContext = SQLContext(sc)\n",
    "\n",
    "blocks_df = sqlContext.createDataFrame(data_blocks)\n",
    "\n",
    "blocks_df.registerTempTable(\"blocks\")\n",
    "\n",
    "total_blocks = sqlContext.sql(\"SELECT COUNT(*) as total_blocks FROM blocks\").first().total_blocks\n",
    "print(\"Total Blocks: {}\".format(total_blocks))"
   ]
  },
  {
   "cell_type": "raw",
   "metadata": {},
   "source": [
    "2. What is the largest block height among the blocks in your dataset? "
   ]
  },
  {
   "cell_type": "code",
   "execution_count": 24,
   "metadata": {
    "scrolled": true
   },
   "outputs": [
    {
     "name": "stdout",
     "output_type": "stream",
     "text": [
      "Largest Block Height: 835509\n"
     ]
    }
   ],
   "source": [
    "max_block_height = sqlContext.sql(\"SELECT MAX(height) as max_block_height FROM blocks\").first().max_block_height\n",
    "print(\"Largest Block Height: {}\".format(max_block_height))"
   ]
  },
  {
   "cell_type": "raw",
   "metadata": {},
   "source": [
    "3. What is the date and time for that block? "
   ]
  },
  {
   "cell_type": "code",
   "execution_count": 25,
   "metadata": {
    "scrolled": true
   },
   "outputs": [
    {
     "name": "stdout",
     "output_type": "stream",
     "text": [
      "Time for the largest block: 1710924274\n"
     ]
    }
   ],
   "source": [
    "block_info = sqlContext.sql(\"SELECT time FROM blocks WHERE height = '{}'\".format(max_block_height)).first()\n",
    "timestamp_value = block_info.time\n",
    "print(\"Time for the largest block: {}\".format(timestamp_value))"
   ]
  },
  {
   "cell_type": "raw",
   "metadata": {},
   "source": [
    "4. What is the highest number of transactions in your blocks? "
   ]
  },
  {
   "cell_type": "code",
   "execution_count": 26,
   "metadata": {
    "scrolled": true
   },
   "outputs": [
    {
     "name": "stdout",
     "output_type": "stream",
     "text": [
      "Highest Number of Transactions: 5058\n"
     ]
    }
   ],
   "source": [
    "max_transactions = sqlContext.sql(\"SELECT MAX(n_tx) as max_transactions FROM blocks\").first().max_transactions\n",
    "print(\"Highest Number of Transactions: {}\".format(max_transactions))"
   ]
  },
  {
   "cell_type": "markdown",
   "metadata": {},
   "source": [
    "## B. Stock Market Data Analysis"
   ]
  },
  {
   "cell_type": "code",
   "execution_count": 27,
   "metadata": {
    "scrolled": true
   },
   "outputs": [
    {
     "name": "stdout",
     "output_type": "stream",
     "text": [
      "close   date                high    low     open    symbol volume  \n",
      "172.39  2024-03-22 16:00:00 172.521 172.248 172.37  AAPL   17915930\n",
      "172.25  2024-03-22 15:59:00 172.48  172.23  172.479 AAPL   953094  \n",
      "172.48  2024-03-22 15:58:00 172.49  172.39  172.4   AAPL   274813  \n",
      "172.405 2024-03-22 15:57:00 172.42  172.33  172.34  AAPL   342157  \n",
      "172.35  2024-03-22 15:56:00 172.43  172.33  172.37  AAPL   288187  \n",
      "172.38  2024-03-22 15:55:00 172.47  172.28  172.29  AAPL   375835  \n",
      "172.3   2024-03-22 15:54:00 172.535 172.26  172.485 AAPL   390478  \n",
      "172.49  2024-03-22 15:53:00 172.51  172.41  172.42  AAPL   259557  \n",
      "172.433 2024-03-22 15:52:00 172.47  172.37  172.39  AAPL   176532  \n",
      "172.4   2024-03-22 15:51:00 172.51  172.3   172.46  AAPL   363401  \n",
      "172.465 2024-03-22 15:50:00 172.63  172.415 172.58  AAPL   290657  \n",
      "172.58  2024-03-22 15:49:00 172.638 172.56  172.635 AAPL   140935  \n",
      "172.63  2024-03-22 15:48:00 172.68  172.56  172.591 AAPL   142526  \n",
      "172.595 2024-03-22 15:47:00 172.68  172.59  172.67  AAPL   130568  \n",
      "172.68  2024-03-22 15:46:00 172.68  172.615 172.635 AAPL   146608  \n",
      "172.635 2024-03-22 15:45:00 172.84  172.6   172.84  AAPL   257051  \n",
      "172.845 2024-03-22 15:44:00 172.93  172.75  172.9   AAPL   230254  \n",
      "172.9   2024-03-22 15:43:00 173.02  172.87  172.985 AAPL   244025  \n",
      "172.99  2024-03-22 15:42:00 173.02  172.94  173.015 AAPL   123976  \n",
      "173.015 2024-03-22 15:41:00 173.02  172.95  172.96  AAPL   127515  \n"
     ]
    }
   ],
   "source": [
    "from pyspark.sql import Row\n",
    "def parse_line(line):\n",
    "    parts = line.split(',')\n",
    "    return Row(symbol=parts[0], date=parts[1],open=float(parts[2]), high=float(parts[3]), \n",
    "               low=float(parts[4]), close=float(parts[5]), \n",
    "               volume=int(parts[6]))\n",
    "\n",
    "# Convert RDD to DataFrame\n",
    "df = sqlContext.createDataFrame(RDD.map(parse_line))\n",
    "\n",
    "# Register the DataFrame as a temp table\n",
    "df.registerTempTable(\"stock_data\")\n",
    "\n",
    "result = sqlContext.sql(\"SELECT * FROM stock_data\")\n",
    "result.show()"
   ]
  },
  {
   "cell_type": "raw",
   "metadata": {},
   "source": [
    "1. How many records are there in the table? "
   ]
  },
  {
   "cell_type": "code",
   "execution_count": 28,
   "metadata": {
    "scrolled": true
   },
   "outputs": [
    {
     "name": "stdout",
     "output_type": "stream",
     "text": [
      "Number of Records: 9775\n"
     ]
    }
   ],
   "source": [
    "record_count = sqlContext.sql(\"SELECT COUNT(*) as record_count FROM stock_data\").first().record_count\n",
    "print(\"Number of Records: {}\".format(record_count))"
   ]
  },
  {
   "cell_type": "raw",
   "metadata": {},
   "source": [
    "2. How many different days are there in the table? "
   ]
  },
  {
   "cell_type": "code",
   "execution_count": 29,
   "metadata": {},
   "outputs": [
    {
     "name": "stdout",
     "output_type": "stream",
     "text": [
      "Number of Different Days: 5\n"
     ]
    }
   ],
   "source": [
    "distinct_days = sqlContext.sql(\"SELECT COUNT(DISTINCT SUBSTRING(`date`, 1, 10)) as distinct_days FROM stock_data\").first().distinct_days\n",
    "print(\"Number of Different Days: {}\".format(distinct_days))"
   ]
  },
  {
   "cell_type": "raw",
   "metadata": {},
   "source": [
    "3. How many records per each day are there in the table? "
   ]
  },
  {
   "cell_type": "code",
   "execution_count": 30,
   "metadata": {
    "scrolled": true
   },
   "outputs": [
    {
     "name": "stdout",
     "output_type": "stream",
     "text": [
      "c0         c1  \n",
      "2024-03-18 1955\n",
      "2024-03-19 1955\n",
      "2024-03-20 1955\n",
      "2024-03-21 1955\n",
      "2024-03-22 1955\n"
     ]
    }
   ],
   "source": [
    "# Execute the SQL query and collect the result\n",
    "records_per_day = sqlContext.sql(\"SELECT SUBSTRING(`date`, 1, 10), COUNT(*) FROM stock_data GROUP BY SUBSTRING(`date`, 1, 10)\")\n",
    "records_per_day.show()\n"
   ]
  },
  {
   "cell_type": "raw",
   "metadata": {},
   "source": [
    "4. What are the symbols in the table? "
   ]
  },
  {
   "cell_type": "code",
   "execution_count": 31,
   "metadata": {
    "scrolled": true
   },
   "outputs": [
    {
     "name": "stdout",
     "output_type": "stream",
     "text": [
      "symbol\n",
      "AAPL  \n",
      "IBM   \n",
      "AMZN  \n",
      "MSFT  \n",
      "GOOG  \n"
     ]
    }
   ],
   "source": [
    "symbols = sqlContext.sql(\"SELECT DISTINCT `symbol` as symbol FROM stock_data\")\n",
    "symbols.show()"
   ]
  },
  {
   "cell_type": "raw",
   "metadata": {},
   "source": [
    "5. What is the highest price for each symbol? "
   ]
  },
  {
   "cell_type": "code",
   "execution_count": 32,
   "metadata": {
    "scrolled": true
   },
   "outputs": [
    {
     "name": "stdout",
     "output_type": "stream",
     "text": [
      "symbol highest_price\n",
      "AAPL   178.68       \n",
      "IBM    194.0        \n",
      "AMZN   181.415      \n",
      "MSFT   430.82       \n",
      "GOOG   152.93       \n"
     ]
    }
   ],
   "source": [
    "highest_price = sqlContext.sql(\"SELECT `symbol` as symbol, MAX(`high`) as highest_price FROM stock_data GROUP BY `symbol`\")\n",
    "highest_price.show()"
   ]
  },
  {
   "cell_type": "raw",
   "metadata": {},
   "source": [
    "6. What is the lowest price for each symbol? "
   ]
  },
  {
   "cell_type": "code",
   "execution_count": 33,
   "metadata": {
    "scrolled": true
   },
   "outputs": [
    {
     "name": "stdout",
     "output_type": "stream",
     "text": [
      "symbol lowest_price\n",
      "AAPL   170.06      \n",
      "IBM    190.01      \n",
      "AMZN   173.52      \n",
      "MSFT   413.78      \n",
      "GOOG   147.01      \n"
     ]
    }
   ],
   "source": [
    "lowest_price = sqlContext.sql(\"SELECT `symbol` as symbol, MIN(`low`) as lowest_price FROM stock_data GROUP BY `symbol`\")\n",
    "lowest_price.show()"
   ]
  },
  {
   "cell_type": "raw",
   "metadata": {},
   "source": [
    "7. What is the average price for each symbol? "
   ]
  },
  {
   "cell_type": "code",
   "execution_count": 34,
   "metadata": {
    "scrolled": true
   },
   "outputs": [
    {
     "name": "stdout",
     "output_type": "stream",
     "text": [
      "symbol average_price     \n",
      "AAPL   174.54806649616415\n",
      "IBM    192.19785984654712\n",
      "AMZN   176.86847007672645\n",
      "MSFT   423.75076368286466\n",
      "GOOG   149.36463836317134\n"
     ]
    }
   ],
   "source": [
    "average_price = sqlContext.sql(\"SELECT `symbol` as symbol, AVG(`close`) as average_price FROM stock_data GROUP BY `symbol`\")\n",
    "average_price.show()"
   ]
  },
  {
   "cell_type": "raw",
   "metadata": {},
   "source": [
    "8. What is the range of price for each symbol? "
   ]
  },
  {
   "cell_type": "code",
   "execution_count": 35,
   "metadata": {
    "scrolled": true
   },
   "outputs": [
    {
     "name": "stdout",
     "output_type": "stream",
     "text": [
      "symbol Minimum Maximum price_range       \n",
      "AAPL   170.075 178.65  8.575000000000017 \n",
      "IBM    190.07  193.97  3.9000000000000057\n",
      "AMZN   173.915 180.995 7.0800000000000125\n",
      "MSFT   415.03  430.71  15.680000000000007\n",
      "GOOG   147.045 152.65  5.605000000000018 \n"
     ]
    }
   ],
   "source": [
    "price_range = sqlContext.sql(\"SELECT `symbol` as symbol, MIN(`close`) as Minimum, MAX(`close`) as Maximum, MAX(`close`) - MIN(`close`) as price_range FROM stock_data GROUP BY `symbol`\")\n",
    "price_range.show()"
   ]
  },
  {
   "cell_type": "raw",
   "metadata": {},
   "source": [
    "9. What is the date on which each symbol experienced the highest price? "
   ]
  },
  {
   "cell_type": "code",
   "execution_count": 36,
   "metadata": {
    "scrolled": true
   },
   "outputs": [
    {
     "name": "stdout",
     "output_type": "stream",
     "text": [
      "symbol transaction_date    highest_price\n",
      "IBM    2024-03-20 16:00:00 194.0        \n",
      "AMZN   2024-03-21 09:33:00 181.415      \n",
      "MSFT   2024-03-21 09:35:00 430.82       \n",
      "GOOG   2024-03-18 09:46:00 152.93       \n",
      "AAPL   2024-03-20 16:00:00 178.68       \n"
     ]
    }
   ],
   "source": [
    "date_highest_price = sqlContext.sql(\"\"\"\n",
    "SELECT s.`symbol` as symbol, s.`date` as transaction_date, s.`high` as highest_price\n",
    "FROM stock_data s\n",
    "JOIN (\n",
    "    SELECT `symbol` as symbol, MAX(`high`) as max_price\n",
    "    FROM stock_data\n",
    "    GROUP BY `symbol`\n",
    ") t\n",
    "ON s.`symbol` = t.symbol AND s.`high` = t.max_price\n",
    "\"\"\")\n",
    "date_highest_price.show()"
   ]
  },
  {
   "cell_type": "markdown",
   "metadata": {},
   "source": [
    "## C. Blockchain Data Analysis – Part 2"
   ]
  },
  {
   "cell_type": "code",
   "execution_count": 39,
   "metadata": {
    "scrolled": true
   },
   "outputs": [],
   "source": [
    "blocks = sqlCtx.load(source=\"jdbc\", \n",
    "                         url=\"jdbc:mysql://localhost/project1?user=training&password=training\", \n",
    "                         dbtable=\"blocks_2023_Sep_10_to_15\")"
   ]
  },
  {
   "cell_type": "code",
   "execution_count": 38,
   "metadata": {
    "collapsed": true,
    "scrolled": true
   },
   "outputs": [],
   "source": [
    "blocks_info = sqlCtx.load(source=\"jdbc\", \n",
    "                         url=\"jdbc:mysql://localhost/project1?user=training&password=training\", \n",
    "                         dbtable=\"blocks_info_2023_Sep_10_to_15\")\n",
    "\n",
    "tx_info = sqlCtx.load(source=\"jdbc\", \n",
    "                         url=\"jdbc:mysql://localhost/project1?user=training&password=training\", \n",
    "                         dbtable=\"tx_info_2023_Sep_10_to_15\")"
   ]
  },
  {
   "cell_type": "raw",
   "metadata": {},
   "source": [
    "1. How many total blocks are there in your blocks table? "
   ]
  },
  {
   "cell_type": "code",
   "execution_count": 40,
   "metadata": {
    "scrolled": true
   },
   "outputs": [
    {
     "name": "stdout",
     "output_type": "stream",
     "text": [
      "Total number of blocks: 920\n"
     ]
    }
   ],
   "source": [
    "total_blocks = blocks.count()\n",
    "print(\"Total number of blocks: {}\".format(total_blocks))"
   ]
  },
  {
   "cell_type": "raw",
   "metadata": {},
   "source": [
    "2. What is the largest block height among the blocks in your blocks table? "
   ]
  },
  {
   "cell_type": "code",
   "execution_count": 41,
   "metadata": {
    "scrolled": true
   },
   "outputs": [
    {
     "name": "stdout",
     "output_type": "stream",
     "text": [
      "('Largest block height:', 807751)\n"
     ]
    }
   ],
   "source": [
    "largest_block_height = blocks.agg({\"block_index\": \"max\"}).collect()[0][0]\n",
    "print(\"Largest block height:\", largest_block_height)"
   ]
  },
  {
   "cell_type": "raw",
   "metadata": {},
   "source": [
    "3. What is the date and time for that block? "
   ]
  },
  {
   "cell_type": "code",
   "execution_count": 42,
   "metadata": {
    "scrolled": true
   },
   "outputs": [
    {
     "name": "stdout",
     "output_type": "stream",
     "text": [
      "('Date and time for the largest block:', '2023-09-15 00:00:00')\n"
     ]
    }
   ],
   "source": [
    "largest_block_date_time = blocks.filter(blocks[\"block_index\"] == largest_block_height).select(\"time\").collect()[0][0]\n",
    "formatted_time = largest_block_date_time.strftime(\"%Y-%m-%d %H:%M:%S\")\n",
    "\n",
    "print(\"Date and time for the largest block:\", formatted_time)"
   ]
  },
  {
   "cell_type": "raw",
   "metadata": {},
   "source": [
    "4. What is the largest number of transactions in your blocks?"
   ]
  },
  {
   "cell_type": "code",
   "execution_count": 43,
   "metadata": {
    "scrolled": true
   },
   "outputs": [
    {
     "name": "stdout",
     "output_type": "stream",
     "text": [
      "('Largest number of transactions in a block:', 7252)\n"
     ]
    }
   ],
   "source": [
    "largest_num_transactions = tx_info.groupBy(\"block_index\").count().agg({\"count\": \"max\"}).collect()[0][0]\n",
    "print(\"Largest number of transactions in a block:\", largest_num_transactions)"
   ]
  },
  {
   "cell_type": "code",
   "execution_count": null,
   "metadata": {
    "collapsed": true,
    "scrolled": true
   },
   "outputs": [],
   "source": []
  }
 ],
 "metadata": {
  "kernelspec": {
   "display_name": "Python 3 (ipykernel)",
   "language": "python",
   "name": "python3"
  },
  "language_info": {
   "codemirror_mode": {
    "name": "ipython",
    "version": 3
   },
   "file_extension": ".py",
   "mimetype": "text/x-python",
   "name": "python",
   "nbconvert_exporter": "python",
   "pygments_lexer": "ipython3",
   "version": "3.9.13"
  }
 },
 "nbformat": 4,
 "nbformat_minor": 1
}
